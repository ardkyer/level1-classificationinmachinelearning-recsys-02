{
 "cells": [
  {
   "cell_type": "markdown",
   "metadata": {},
   "source": [
    "# Import Iibrary"
   ]
  },
  {
   "cell_type": "code",
   "execution_count": 1,
   "metadata": {},
   "outputs": [],
   "source": [
    "import os\n",
    "import numpy as np\n",
    "import pandas as pd\n",
    "\n",
    "from sklearn.preprocessing import MinMaxScaler\n",
    "from sklearn.model_selection import train_test_split\n",
    "\n",
    "from dataset_generator import DatasetGenerator\n",
    "from MICE import FillNaN\n",
    "from apply_PCA import MakePCA\n"
   ]
  },
  {
   "cell_type": "markdown",
   "metadata": {},
   "source": [
    "# Load Data"
   ]
  },
  {
   "cell_type": "code",
   "execution_count": 2,
   "metadata": {},
   "outputs": [
    {
     "name": "stderr",
     "output_type": "stream",
     "text": [
      "100%|██████████| 107/107 [00:07<00:00, 15.21it/s]\n"
     ]
    }
   ],
   "source": [
    "data_path = '../../data'\n",
    "dataset_gen = DatasetGenerator(data_path)\n",
    "\n",
    "df = dataset_gen.generate_dataset()\n",
    "\n",
    "df, category_cols, conti_cols = dataset_gen.feature_engineering(df)\n"
   ]
  },
  {
   "cell_type": "code",
   "execution_count": 3,
   "metadata": {},
   "outputs": [],
   "source": [
    "# 파생 변수 생성에만 필요했던 변수들\n",
    "drop_cols1 = ['long_liquidations_bybit', 'short_liquidations_bybit', 'long_liquidations_bitfinex', 'short_liquidations_bitfinex', 'long_liquidations_binance', 'short_liquidations_binance',\n",
    "             'buy_volume_deribit', 'sell_volume_deribit','buy_volume_bybit', 'sell_volume_bybit','buy_volume_okx', 'sell_volume_okx']\n",
    "\n",
    "# corr 0.9 이상\n",
    "drop_cols2 = [\n",
    "    'coinbase_premium_gap', 'long_liquidations_usd', 'short_liquidations_usd', 'buy_sell_ratio', 'sell_ratio', 'sell_volume','block_mean', 'block_mean_usd', 'blockreward',\n",
    "    'fees_total', 'fees_transaction_mean', 'fees_transaction_median', 'supply_total', 'utxo_count', 'supply_new', 'velocity_supply_total', 'fees_reward_percent', 'hashrate', 'sender_count' ]\n",
    "\n",
    "\n",
    "# 파생 변수 중에 corr 0.9 이상\n",
    "drop_cols3 = ['long_liquidation_interest_ratio', 'short_liquidation_interest_ratio', 'volume_interest_ratio', 'buy_sell_volume_ratio', 'volume_index']\n",
    "\n",
    "drop_cols = drop_cols1 + drop_cols2 + drop_cols3\n",
    "\n",
    "df_select = df.drop(columns = drop_cols)\n"
   ]
  },
  {
   "cell_type": "code",
   "execution_count": 4,
   "metadata": {},
   "outputs": [
    {
     "data": {
      "text/html": [
       "<div>\n",
       "<style scoped>\n",
       "    .dataframe tbody tr th:only-of-type {\n",
       "        vertical-align: middle;\n",
       "    }\n",
       "\n",
       "    .dataframe tbody tr th {\n",
       "        vertical-align: top;\n",
       "    }\n",
       "\n",
       "    .dataframe thead th {\n",
       "        text-align: right;\n",
       "    }\n",
       "</style>\n",
       "<table border=\"1\" class=\"dataframe\">\n",
       "  <thead>\n",
       "    <tr style=\"text-align: right;\">\n",
       "      <th></th>\n",
       "      <th>ID</th>\n",
       "      <th>target</th>\n",
       "      <th>_type</th>\n",
       "      <th>coinbase_premium_index</th>\n",
       "      <th>funding_rates</th>\n",
       "      <th>funding_rates_bitmex</th>\n",
       "      <th>long_liquidations</th>\n",
       "      <th>short_liquidations</th>\n",
       "      <th>open_interest</th>\n",
       "      <th>buy_ratio</th>\n",
       "      <th>...</th>\n",
       "      <th>fees_activity_ratio</th>\n",
       "      <th>tokens_fee_ratio</th>\n",
       "      <th>block_interval_difficulty_reward_ratio</th>\n",
       "      <th>taker_interest_ratio</th>\n",
       "      <th>premium_liquidation_ratio</th>\n",
       "      <th>velocity_supply_ratio</th>\n",
       "      <th>funding_taker_ratio</th>\n",
       "      <th>M</th>\n",
       "      <th>Is_Afternoon_Evening</th>\n",
       "      <th>Is_Weekend</th>\n",
       "    </tr>\n",
       "  </thead>\n",
       "  <tbody>\n",
       "    <tr>\n",
       "      <th>0</th>\n",
       "      <td>2023-01-01 00:00:00</td>\n",
       "      <td>2.0</td>\n",
       "      <td>train</td>\n",
       "      <td>-0.059650</td>\n",
       "      <td>0.005049</td>\n",
       "      <td>0.0014</td>\n",
       "      <td>0.012</td>\n",
       "      <td>0.000</td>\n",
       "      <td>6.271344e+09</td>\n",
       "      <td>0.475003</td>\n",
       "      <td>...</td>\n",
       "      <td>7.202686e-10</td>\n",
       "      <td>58919.999796</td>\n",
       "      <td>8.421701e+14</td>\n",
       "      <td>0.015604</td>\n",
       "      <td>1.904329e-22</td>\n",
       "      <td>3.590163e-09</td>\n",
       "      <td>179.185118</td>\n",
       "      <td>1</td>\n",
       "      <td>0</td>\n",
       "      <td>1</td>\n",
       "    </tr>\n",
       "    <tr>\n",
       "      <th>1</th>\n",
       "      <td>2023-01-01 01:00:00</td>\n",
       "      <td>1.0</td>\n",
       "      <td>train</td>\n",
       "      <td>-0.053047</td>\n",
       "      <td>0.005049</td>\n",
       "      <td>0.0014</td>\n",
       "      <td>0.000</td>\n",
       "      <td>0.712</td>\n",
       "      <td>6.288683e+09</td>\n",
       "      <td>0.623454</td>\n",
       "      <td>...</td>\n",
       "      <td>1.436218e-09</td>\n",
       "      <td>50472.421939</td>\n",
       "      <td>1.125007e+14</td>\n",
       "      <td>0.010140</td>\n",
       "      <td>8.697117e-23</td>\n",
       "      <td>2.350919e-09</td>\n",
       "      <td>327.913566</td>\n",
       "      <td>1</td>\n",
       "      <td>0</td>\n",
       "      <td>1</td>\n",
       "    </tr>\n",
       "  </tbody>\n",
       "</table>\n",
       "<p>2 rows × 58 columns</p>\n",
       "</div>"
      ],
      "text/plain": [
       "                    ID  target  _type  coinbase_premium_index  funding_rates  \\\n",
       "0  2023-01-01 00:00:00     2.0  train               -0.059650       0.005049   \n",
       "1  2023-01-01 01:00:00     1.0  train               -0.053047       0.005049   \n",
       "\n",
       "   funding_rates_bitmex  long_liquidations  short_liquidations  open_interest  \\\n",
       "0                0.0014              0.012               0.000   6.271344e+09   \n",
       "1                0.0014              0.000               0.712   6.288683e+09   \n",
       "\n",
       "   buy_ratio  ...  fees_activity_ratio  tokens_fee_ratio  \\\n",
       "0   0.475003  ...         7.202686e-10      58919.999796   \n",
       "1   0.623454  ...         1.436218e-09      50472.421939   \n",
       "\n",
       "   block_interval_difficulty_reward_ratio  taker_interest_ratio  \\\n",
       "0                            8.421701e+14              0.015604   \n",
       "1                            1.125007e+14              0.010140   \n",
       "\n",
       "   premium_liquidation_ratio  velocity_supply_ratio  funding_taker_ratio  M  \\\n",
       "0               1.904329e-22           3.590163e-09           179.185118  1   \n",
       "1               8.697117e-23           2.350919e-09           327.913566  1   \n",
       "\n",
       "   Is_Afternoon_Evening  Is_Weekend  \n",
       "0                     0           1  \n",
       "1                     0           1  \n",
       "\n",
       "[2 rows x 58 columns]"
      ]
     },
     "execution_count": 4,
     "metadata": {},
     "output_type": "execute_result"
    }
   ],
   "source": [
    "df_select.head(2)\n"
   ]
  },
  {
   "cell_type": "markdown",
   "metadata": {},
   "source": [
    "# Fill Na"
   ]
  },
  {
   "cell_type": "code",
   "execution_count": 5,
   "metadata": {},
   "outputs": [],
   "source": [
    "fill_nan = FillNaN(df)\n",
    "filled_df = fill_nan.MICE()\n"
   ]
  },
  {
   "cell_type": "markdown",
   "metadata": {},
   "source": [
    "# Log transform"
   ]
  },
  {
   "cell_type": "code",
   "execution_count": 6,
   "metadata": {},
   "outputs": [],
   "source": [
    "columns_to_log_transform = [\n",
    "    'funding_rates_bitmex', 'long_liquidations', 'short_liquidations',\n",
    "    'buy_volume', 'buy_sell_ratio_huobi', 'fees_total_usd',\n",
    "    'fees_transaction_mean_usd', 'fees_transaction_median_usd', 'blockreward_usd',\n",
    "    'block_interval', 'tokens_transferred_total', 'tokens_transferred_mean',\n",
    "    'block_bytes', 'network_active', 'profitability', 'leverage', 'market_health', \n",
    "    'tokens_fee_ratio'\n",
    "]\n",
    "\n",
    "# 로그 변환: log1p를 사용하여 (log(1 + x)) 적용\n",
    "df_select[columns_to_log_transform] = df_select[columns_to_log_transform].apply(np.log1p)"
   ]
  },
  {
   "cell_type": "markdown",
   "metadata": {},
   "source": [
    "# MinMax Scaling"
   ]
  },
  {
   "cell_type": "code",
   "execution_count": 7,
   "metadata": {},
   "outputs": [
    {
     "data": {
      "text/html": [
       "<div>\n",
       "<style scoped>\n",
       "    .dataframe tbody tr th:only-of-type {\n",
       "        vertical-align: middle;\n",
       "    }\n",
       "\n",
       "    .dataframe tbody tr th {\n",
       "        vertical-align: top;\n",
       "    }\n",
       "\n",
       "    .dataframe thead th {\n",
       "        text-align: right;\n",
       "    }\n",
       "</style>\n",
       "<table border=\"1\" class=\"dataframe\">\n",
       "  <thead>\n",
       "    <tr style=\"text-align: right;\">\n",
       "      <th></th>\n",
       "      <th>_type</th>\n",
       "      <th>target</th>\n",
       "      <th>ID</th>\n",
       "      <th>M</th>\n",
       "      <th>coinbase_premium_index</th>\n",
       "      <th>funding_rates</th>\n",
       "      <th>funding_rates_bitmex</th>\n",
       "      <th>long_liquidations</th>\n",
       "      <th>short_liquidations</th>\n",
       "      <th>open_interest</th>\n",
       "      <th>...</th>\n",
       "      <th>hashrate_difficulty_reward_ratio</th>\n",
       "      <th>fees_activity_ratio</th>\n",
       "      <th>tokens_fee_ratio</th>\n",
       "      <th>block_interval_difficulty_reward_ratio</th>\n",
       "      <th>taker_interest_ratio</th>\n",
       "      <th>premium_liquidation_ratio</th>\n",
       "      <th>velocity_supply_ratio</th>\n",
       "      <th>funding_taker_ratio</th>\n",
       "      <th>Is_Afternoon_Evening</th>\n",
       "      <th>Is_Weekend</th>\n",
       "    </tr>\n",
       "  </thead>\n",
       "  <tbody>\n",
       "    <tr>\n",
       "      <th>0</th>\n",
       "      <td>train</td>\n",
       "      <td>2.0</td>\n",
       "      <td>2023-01-01 00:00:00</td>\n",
       "      <td>1</td>\n",
       "      <td>0.492212</td>\n",
       "      <td>0.623464</td>\n",
       "      <td>0.702435</td>\n",
       "      <td>0.001562</td>\n",
       "      <td>0.000000</td>\n",
       "      <td>0.385656</td>\n",
       "      <td>...</td>\n",
       "      <td>0.270434</td>\n",
       "      <td>0.001113</td>\n",
       "      <td>0.821765</td>\n",
       "      <td>0.125697</td>\n",
       "      <td>0.009775</td>\n",
       "      <td>1.822592e-22</td>\n",
       "      <td>0.196608</td>\n",
       "      <td>0.770048</td>\n",
       "      <td>0.0</td>\n",
       "      <td>1.0</td>\n",
       "    </tr>\n",
       "    <tr>\n",
       "      <th>1</th>\n",
       "      <td>train</td>\n",
       "      <td>1.0</td>\n",
       "      <td>2023-01-01 01:00:00</td>\n",
       "      <td>1</td>\n",
       "      <td>0.494355</td>\n",
       "      <td>0.623463</td>\n",
       "      <td>0.702435</td>\n",
       "      <td>0.000000</td>\n",
       "      <td>0.065954</td>\n",
       "      <td>0.387585</td>\n",
       "      <td>...</td>\n",
       "      <td>0.065730</td>\n",
       "      <td>0.002449</td>\n",
       "      <td>0.803145</td>\n",
       "      <td>0.016748</td>\n",
       "      <td>0.005718</td>\n",
       "      <td>7.879755e-23</td>\n",
       "      <td>0.125858</td>\n",
       "      <td>0.770186</td>\n",
       "      <td>0.0</td>\n",
       "      <td>1.0</td>\n",
       "    </tr>\n",
       "  </tbody>\n",
       "</table>\n",
       "<p>2 rows × 58 columns</p>\n",
       "</div>"
      ],
      "text/plain": [
       "   _type  target                   ID  M  coinbase_premium_index  \\\n",
       "0  train     2.0  2023-01-01 00:00:00  1                0.492212   \n",
       "1  train     1.0  2023-01-01 01:00:00  1                0.494355   \n",
       "\n",
       "   funding_rates  funding_rates_bitmex  long_liquidations  short_liquidations  \\\n",
       "0       0.623464              0.702435           0.001562            0.000000   \n",
       "1       0.623463              0.702435           0.000000            0.065954   \n",
       "\n",
       "   open_interest  ...  hashrate_difficulty_reward_ratio  fees_activity_ratio  \\\n",
       "0       0.385656  ...                          0.270434             0.001113   \n",
       "1       0.387585  ...                          0.065730             0.002449   \n",
       "\n",
       "   tokens_fee_ratio  block_interval_difficulty_reward_ratio  \\\n",
       "0          0.821765                                0.125697   \n",
       "1          0.803145                                0.016748   \n",
       "\n",
       "   taker_interest_ratio  premium_liquidation_ratio  velocity_supply_ratio  \\\n",
       "0              0.009775               1.822592e-22               0.196608   \n",
       "1              0.005718               7.879755e-23               0.125858   \n",
       "\n",
       "   funding_taker_ratio  Is_Afternoon_Evening  Is_Weekend  \n",
       "0             0.770048                   0.0         1.0  \n",
       "1             0.770186                   0.0         1.0  \n",
       "\n",
       "[2 rows x 58 columns]"
      ]
     },
     "execution_count": 7,
     "metadata": {},
     "output_type": "execute_result"
    }
   ],
   "source": [
    "train_df = df_select[df_select._type == 'train'].drop(columns=['_type', 'target', 'ID','M'])\n",
    "test_df = df_select[df_select._type == 'test'].drop(columns=['_type', 'target', 'ID','M'])\n",
    "\n",
    "numeric_cols_train = train_df.select_dtypes(include=['float64', 'int64']).columns\n",
    "\n",
    "scaler = MinMaxScaler()\n",
    "\n",
    "train_scaled = scaler.fit_transform(train_df[numeric_cols_train])\n",
    "train_df[numeric_cols_train] = train_scaled\n",
    "\n",
    "test_scaled = scaler.transform(test_df[numeric_cols_train])\n",
    "test_df[numeric_cols_train] = test_scaled\n",
    "\n",
    "minmaxdf = pd.concat([df_select[['_type', 'target', 'ID','M']], pd.concat([train_df, test_df], axis=0)], axis=1)\n",
    "minmaxdf.head(2)\n"
   ]
  },
  {
   "cell_type": "markdown",
   "metadata": {},
   "source": [
    "# DF1"
   ]
  },
  {
   "cell_type": "code",
   "execution_count": 10,
   "metadata": {},
   "outputs": [],
   "source": [
    "intervals=[6,12,24,48,72]\n",
    "ma_col_lst = set(conti_cols)-set(drop_cols)\n",
    "df_select_ma = dataset_gen.moving_average(minmaxdf, ma_col_lst, intervals)"
   ]
  },
  {
   "cell_type": "code",
   "execution_count": 12,
   "metadata": {},
   "outputs": [],
   "source": [
    "# ccf 에서 상관성이 높았던 변수들 (EDA 참고)\n",
    "shift_col_lst = ['funding_rates',  'funding_rates_bitmex', 'open_interest', 'transactions_count_total', 'transactions_count_mean', 'block_mean', 'block_mean_usd',\n",
    "           'fees_total', 'fees_total_usd', 'fees_reward_percent', 'difficulty', 'utxo_count', 'supply_total', 'hashrate', 'fees_transaction_mean',\n",
    "           'fees_transaction_mean_usd', 'fees_transaction_median', 'fees_transaction_median_usd', 'blockreward_usd', 'tokens_transferred_mean',\n",
    "           'tokens_transferred_median', 'velocity_supply_total', 'address_diff', 'profitability', 'fee_index'\n",
    "]\n",
    "\n",
    "# shift 변수 추가\n",
    "shift_col_lst = set(shift_col_lst) - set(drop_cols)\n",
    "df_select_ma_shift = dataset_gen.shift_feature(df_select_ma, shift_col_lst, intervals=[_ for _ in range(1, 24)])"
   ]
  },
  {
   "cell_type": "code",
   "execution_count": 13,
   "metadata": {},
   "outputs": [
    {
     "data": {
      "text/html": [
       "<div>\n",
       "<style scoped>\n",
       "    .dataframe tbody tr th:only-of-type {\n",
       "        vertical-align: middle;\n",
       "    }\n",
       "\n",
       "    .dataframe tbody tr th {\n",
       "        vertical-align: top;\n",
       "    }\n",
       "\n",
       "    .dataframe thead th {\n",
       "        text-align: right;\n",
       "    }\n",
       "</style>\n",
       "<table border=\"1\" class=\"dataframe\">\n",
       "  <thead>\n",
       "    <tr style=\"text-align: right;\">\n",
       "      <th></th>\n",
       "      <th>_type</th>\n",
       "      <th>target</th>\n",
       "      <th>ID</th>\n",
       "      <th>M</th>\n",
       "      <th>coinbase_premium_index</th>\n",
       "      <th>funding_rates</th>\n",
       "      <th>funding_rates_bitmex</th>\n",
       "      <th>long_liquidations</th>\n",
       "      <th>short_liquidations</th>\n",
       "      <th>open_interest</th>\n",
       "      <th>...</th>\n",
       "      <th>tokens_transferred_mean_14</th>\n",
       "      <th>tokens_transferred_mean_15</th>\n",
       "      <th>tokens_transferred_mean_16</th>\n",
       "      <th>tokens_transferred_mean_17</th>\n",
       "      <th>tokens_transferred_mean_18</th>\n",
       "      <th>tokens_transferred_mean_19</th>\n",
       "      <th>tokens_transferred_mean_20</th>\n",
       "      <th>tokens_transferred_mean_21</th>\n",
       "      <th>tokens_transferred_mean_22</th>\n",
       "      <th>tokens_transferred_mean_23</th>\n",
       "    </tr>\n",
       "  </thead>\n",
       "  <tbody>\n",
       "    <tr>\n",
       "      <th>0</th>\n",
       "      <td>train</td>\n",
       "      <td>2.0</td>\n",
       "      <td>2023-01-01 00:00:00</td>\n",
       "      <td>1</td>\n",
       "      <td>0.492212</td>\n",
       "      <td>0.623464</td>\n",
       "      <td>0.702435</td>\n",
       "      <td>0.001562</td>\n",
       "      <td>0.000000</td>\n",
       "      <td>0.385656</td>\n",
       "      <td>...</td>\n",
       "      <td>NaN</td>\n",
       "      <td>NaN</td>\n",
       "      <td>NaN</td>\n",
       "      <td>NaN</td>\n",
       "      <td>NaN</td>\n",
       "      <td>NaN</td>\n",
       "      <td>NaN</td>\n",
       "      <td>NaN</td>\n",
       "      <td>NaN</td>\n",
       "      <td>NaN</td>\n",
       "    </tr>\n",
       "    <tr>\n",
       "      <th>1</th>\n",
       "      <td>train</td>\n",
       "      <td>1.0</td>\n",
       "      <td>2023-01-01 01:00:00</td>\n",
       "      <td>1</td>\n",
       "      <td>0.494355</td>\n",
       "      <td>0.623463</td>\n",
       "      <td>0.702435</td>\n",
       "      <td>0.000000</td>\n",
       "      <td>0.065954</td>\n",
       "      <td>0.387585</td>\n",
       "      <td>...</td>\n",
       "      <td>NaN</td>\n",
       "      <td>NaN</td>\n",
       "      <td>NaN</td>\n",
       "      <td>NaN</td>\n",
       "      <td>NaN</td>\n",
       "      <td>NaN</td>\n",
       "      <td>NaN</td>\n",
       "      <td>NaN</td>\n",
       "      <td>NaN</td>\n",
       "      <td>NaN</td>\n",
       "    </tr>\n",
       "    <tr>\n",
       "      <th>2</th>\n",
       "      <td>train</td>\n",
       "      <td>1.0</td>\n",
       "      <td>2023-01-01 02:00:00</td>\n",
       "      <td>1</td>\n",
       "      <td>0.492763</td>\n",
       "      <td>0.623459</td>\n",
       "      <td>0.702435</td>\n",
       "      <td>0.000000</td>\n",
       "      <td>0.000000</td>\n",
       "      <td>0.387375</td>\n",
       "      <td>...</td>\n",
       "      <td>NaN</td>\n",
       "      <td>NaN</td>\n",
       "      <td>NaN</td>\n",
       "      <td>NaN</td>\n",
       "      <td>NaN</td>\n",
       "      <td>NaN</td>\n",
       "      <td>NaN</td>\n",
       "      <td>NaN</td>\n",
       "      <td>NaN</td>\n",
       "      <td>NaN</td>\n",
       "    </tr>\n",
       "  </tbody>\n",
       "</table>\n",
       "<p>3 rows × 663 columns</p>\n",
       "</div>"
      ],
      "text/plain": [
       "   _type  target                   ID  M  coinbase_premium_index  \\\n",
       "0  train     2.0  2023-01-01 00:00:00  1                0.492212   \n",
       "1  train     1.0  2023-01-01 01:00:00  1                0.494355   \n",
       "2  train     1.0  2023-01-01 02:00:00  1                0.492763   \n",
       "\n",
       "   funding_rates  funding_rates_bitmex  long_liquidations  short_liquidations  \\\n",
       "0       0.623464              0.702435           0.001562            0.000000   \n",
       "1       0.623463              0.702435           0.000000            0.065954   \n",
       "2       0.623459              0.702435           0.000000            0.000000   \n",
       "\n",
       "   open_interest  ...  tokens_transferred_mean_14  tokens_transferred_mean_15  \\\n",
       "0       0.385656  ...                         NaN                         NaN   \n",
       "1       0.387585  ...                         NaN                         NaN   \n",
       "2       0.387375  ...                         NaN                         NaN   \n",
       "\n",
       "   tokens_transferred_mean_16  tokens_transferred_mean_17  \\\n",
       "0                         NaN                         NaN   \n",
       "1                         NaN                         NaN   \n",
       "2                         NaN                         NaN   \n",
       "\n",
       "   tokens_transferred_mean_18  tokens_transferred_mean_19  \\\n",
       "0                         NaN                         NaN   \n",
       "1                         NaN                         NaN   \n",
       "2                         NaN                         NaN   \n",
       "\n",
       "   tokens_transferred_mean_20  tokens_transferred_mean_21  \\\n",
       "0                         NaN                         NaN   \n",
       "1                         NaN                         NaN   \n",
       "2                         NaN                         NaN   \n",
       "\n",
       "   tokens_transferred_mean_22  tokens_transferred_mean_23  \n",
       "0                         NaN                         NaN  \n",
       "1                         NaN                         NaN  \n",
       "2                         NaN                         NaN  \n",
       "\n",
       "[3 rows x 663 columns]"
      ]
     },
     "execution_count": 13,
     "metadata": {},
     "output_type": "execute_result"
    }
   ],
   "source": [
    "df_select_ma_shift.head(3)"
   ]
  },
  {
   "cell_type": "code",
   "execution_count": 14,
   "metadata": {},
   "outputs": [],
   "source": [
    "_target = df[\"target\"]\n",
    "final_df = df_select_ma_shift.ffill().fillna(-999).assign(target = _target)\n",
    "\n",
    "train_df = final_df[final_df._type == 'train'].drop(columns = '_type')\n",
    "test_df = final_df[final_df._type == 'test'].drop(columns = '_type')"
   ]
  },
  {
   "cell_type": "code",
   "execution_count": 15,
   "metadata": {},
   "outputs": [],
   "source": [
    "# train_test_split 으로 valid set, train set 분리\n",
    "x_train_random, x_valid_random, y_train_random, y_valid_random = train_test_split(\n",
    "    train_df.drop(columns = ['ID', 'target']), \n",
    "    train_df[\"target\"].astype(int), \n",
    "    test_size=0.2,\n",
    "    random_state=42,\n",
    "    stratify=train_df[\"target\"].astype(int) \n",
    ")"
   ]
  },
  {
   "cell_type": "code",
   "execution_count": 16,
   "metadata": {},
   "outputs": [],
   "source": [
    "# time series valid, train set 분리\n",
    "x_train_ts = train_df[train_df.ID < '2023-11-01'].drop([\"target\", \"ID\"], axis = 1)\n",
    "y_train_ts = train_df[train_df.ID < '2023-11-01'][\"target\"].astype(int)\n",
    "\n",
    "x_valid_ts = train_df[train_df.ID >= '2023-11-01'].drop([\"target\", \"ID\"], axis = 1)\n",
    "y_valid_ts = train_df[train_df.ID >= '2023-11-01'][\"target\"].astype(int)"
   ]
  },
  {
   "cell_type": "code",
   "execution_count": 17,
   "metadata": {},
   "outputs": [],
   "source": [
    "x_train_random.replace([np.inf, -np.inf], np.nan, inplace=True)\n",
    "x_valid_random.replace([np.inf, -np.inf], np.nan, inplace=True)\n",
    "\n",
    "x_train_ts.replace([np.inf, -np.inf], np.nan, inplace=True)\n",
    "x_valid_ts.replace([np.inf, -np.inf], np.nan, inplace=True)"
   ]
  },
  {
   "cell_type": "code",
   "execution_count": 18,
   "metadata": {},
   "outputs": [],
   "source": [
    "# 모델 불러와서 예측하고 변수 중요도 추출\n",
    "df1_list = []"
   ]
  },
  {
   "cell_type": "code",
   "execution_count": 19,
   "metadata": {},
   "outputs": [
    {
     "data": {
      "text/html": [
       "<div>\n",
       "<style scoped>\n",
       "    .dataframe tbody tr th:only-of-type {\n",
       "        vertical-align: middle;\n",
       "    }\n",
       "\n",
       "    .dataframe tbody tr th {\n",
       "        vertical-align: top;\n",
       "    }\n",
       "\n",
       "    .dataframe thead th {\n",
       "        text-align: right;\n",
       "    }\n",
       "</style>\n",
       "<table border=\"1\" class=\"dataframe\">\n",
       "  <thead>\n",
       "    <tr style=\"text-align: right;\">\n",
       "      <th></th>\n",
       "    </tr>\n",
       "  </thead>\n",
       "  <tbody>\n",
       "    <tr>\n",
       "      <th>0</th>\n",
       "    </tr>\n",
       "    <tr>\n",
       "      <th>1</th>\n",
       "    </tr>\n",
       "    <tr>\n",
       "      <th>2</th>\n",
       "    </tr>\n",
       "    <tr>\n",
       "      <th>3</th>\n",
       "    </tr>\n",
       "    <tr>\n",
       "      <th>4</th>\n",
       "    </tr>\n",
       "  </tbody>\n",
       "</table>\n",
       "</div>"
      ],
      "text/plain": [
       "Empty DataFrame\n",
       "Columns: []\n",
       "Index: [0, 1, 2, 3, 4]"
      ]
     },
     "execution_count": 19,
     "metadata": {},
     "output_type": "execute_result"
    }
   ],
   "source": [
    "df1 = minmaxdf[df1_list]\n",
    "df1.head()"
   ]
  },
  {
   "cell_type": "markdown",
   "metadata": {},
   "source": [
    "# DF2 - PCA 활용"
   ]
  },
  {
   "cell_type": "code",
   "execution_count": 20,
   "metadata": {},
   "outputs": [],
   "source": [
    "pca = MakePCA(df_select)"
   ]
  },
  {
   "cell_type": "code",
   "execution_count": 21,
   "metadata": {},
   "outputs": [
    {
     "data": {
      "image/png": "[encoded data removed]",
      "text/plain": [
       "<Figure size 576x432 with 1 Axes>"
      ]
     },
     "metadata": {
      "needs_background": "light"
     },
     "output_type": "display_data"
    },
    {
     "name": "stdout",
     "output_type": "stream",
     "text": [
      "24\n"
     ]
    }
   ],
   "source": [
    "num = pca.Find_PCA_n(visualize=True)\n",
    "print(num)"
   ]
  },
  {
   "cell_type": "code",
   "execution_count": 22,
   "metadata": {},
   "outputs": [
    {
     "data": {
      "text/html": [
       "<div>\n",
       "<style scoped>\n",
       "    .dataframe tbody tr th:only-of-type {\n",
       "        vertical-align: middle;\n",
       "    }\n",
       "\n",
       "    .dataframe tbody tr th {\n",
       "        vertical-align: top;\n",
       "    }\n",
       "\n",
       "    .dataframe thead th {\n",
       "        text-align: right;\n",
       "    }\n",
       "</style>\n",
       "<table border=\"1\" class=\"dataframe\">\n",
       "  <thead>\n",
       "    <tr style=\"text-align: right;\">\n",
       "      <th></th>\n",
       "      <th>ID</th>\n",
       "      <th>_type</th>\n",
       "      <th>target</th>\n",
       "      <th>PC1</th>\n",
       "      <th>PC2</th>\n",
       "      <th>PC3</th>\n",
       "      <th>PC4</th>\n",
       "      <th>PC5</th>\n",
       "      <th>PC6</th>\n",
       "      <th>PC7</th>\n",
       "      <th>...</th>\n",
       "      <th>PC15</th>\n",
       "      <th>PC16</th>\n",
       "      <th>PC17</th>\n",
       "      <th>PC18</th>\n",
       "      <th>PC19</th>\n",
       "      <th>PC20</th>\n",
       "      <th>PC21</th>\n",
       "      <th>PC22</th>\n",
       "      <th>PC23</th>\n",
       "      <th>PC24</th>\n",
       "    </tr>\n",
       "  </thead>\n",
       "  <tbody>\n",
       "    <tr>\n",
       "      <th>0</th>\n",
       "      <td>2023-01-01 00:00:00</td>\n",
       "      <td>train</td>\n",
       "      <td>2.0</td>\n",
       "      <td>-7.616700</td>\n",
       "      <td>3.902004</td>\n",
       "      <td>-0.372305</td>\n",
       "      <td>-1.408289</td>\n",
       "      <td>0.170445</td>\n",
       "      <td>-1.217880</td>\n",
       "      <td>5.171932</td>\n",
       "      <td>...</td>\n",
       "      <td>-0.305315</td>\n",
       "      <td>-2.395149</td>\n",
       "      <td>-0.537599</td>\n",
       "      <td>1.436379</td>\n",
       "      <td>0.154574</td>\n",
       "      <td>0.207808</td>\n",
       "      <td>0.864349</td>\n",
       "      <td>-0.192667</td>\n",
       "      <td>-0.576136</td>\n",
       "      <td>0.719176</td>\n",
       "    </tr>\n",
       "    <tr>\n",
       "      <th>1</th>\n",
       "      <td>2023-01-01 01:00:00</td>\n",
       "      <td>train</td>\n",
       "      <td>1.0</td>\n",
       "      <td>-5.108229</td>\n",
       "      <td>-1.748376</td>\n",
       "      <td>2.212699</td>\n",
       "      <td>-3.108076</td>\n",
       "      <td>-0.160802</td>\n",
       "      <td>-0.919286</td>\n",
       "      <td>1.340964</td>\n",
       "      <td>...</td>\n",
       "      <td>-0.838288</td>\n",
       "      <td>-1.818784</td>\n",
       "      <td>-1.682709</td>\n",
       "      <td>2.565083</td>\n",
       "      <td>-0.108025</td>\n",
       "      <td>-0.273851</td>\n",
       "      <td>0.249715</td>\n",
       "      <td>-0.238398</td>\n",
       "      <td>-0.079584</td>\n",
       "      <td>-0.269397</td>\n",
       "    </tr>\n",
       "  </tbody>\n",
       "</table>\n",
       "<p>2 rows × 27 columns</p>\n",
       "</div>"
      ],
      "text/plain": [
       "                    ID  _type  target       PC1       PC2       PC3       PC4  \\\n",
       "0  2023-01-01 00:00:00  train     2.0 -7.616700  3.902004 -0.372305 -1.408289   \n",
       "1  2023-01-01 01:00:00  train     1.0 -5.108229 -1.748376  2.212699 -3.108076   \n",
       "\n",
       "        PC5       PC6       PC7  ...      PC15      PC16      PC17      PC18  \\\n",
       "0  0.170445 -1.217880  5.171932  ... -0.305315 -2.395149 -0.537599  1.436379   \n",
       "1 -0.160802 -0.919286  1.340964  ... -0.838288 -1.818784 -1.682709  2.565083   \n",
       "\n",
       "       PC19      PC20      PC21      PC22      PC23      PC24  \n",
       "0  0.154574  0.207808  0.864349 -0.192667 -0.576136  0.719176  \n",
       "1 -0.108025 -0.273851  0.249715 -0.238398 -0.079584 -0.269397  \n",
       "\n",
       "[2 rows x 27 columns]"
      ]
     },
     "execution_count": 22,
     "metadata": {},
     "output_type": "execute_result"
    }
   ],
   "source": [
    "pca_df = pca.ApplyPCA(num)\n",
    "pca_df.head(2)"
   ]
  },
  {
   "cell_type": "code",
   "execution_count": 24,
   "metadata": {},
   "outputs": [],
   "source": [
    "intervals = [6,12,24,48,72]\n",
    "\n",
    "# ccf 에서 상관성이 높았던 변수들 \n",
    "col_lst = [f'PC{i+1}' for i in [1,3,5,11,12,13,18]]\n",
    "\n",
    "df_select_ma = dataset_gen.moving_average(pca_df, col_lst, intervals)\n"
   ]
  },
  {
   "cell_type": "code",
   "execution_count": 25,
   "metadata": {},
   "outputs": [],
   "source": [
    "shift_intervals = [_ for _ in range(1, 24)]\n",
    "\n",
    "df_shifted = dataset_gen.shift_feature(df_select_ma, col_lst, shift_intervals)\n"
   ]
  },
  {
   "cell_type": "code",
   "execution_count": 26,
   "metadata": {},
   "outputs": [
    {
     "data": {
      "text/html": [
       "<div>\n",
       "<style scoped>\n",
       "    .dataframe tbody tr th:only-of-type {\n",
       "        vertical-align: middle;\n",
       "    }\n",
       "\n",
       "    .dataframe tbody tr th {\n",
       "        vertical-align: top;\n",
       "    }\n",
       "\n",
       "    .dataframe thead th {\n",
       "        text-align: right;\n",
       "    }\n",
       "</style>\n",
       "<table border=\"1\" class=\"dataframe\">\n",
       "  <thead>\n",
       "    <tr style=\"text-align: right;\">\n",
       "      <th></th>\n",
       "      <th>ID</th>\n",
       "      <th>_type</th>\n",
       "      <th>target</th>\n",
       "      <th>PC1</th>\n",
       "      <th>PC2</th>\n",
       "      <th>PC3</th>\n",
       "      <th>PC4</th>\n",
       "      <th>PC5</th>\n",
       "      <th>PC6</th>\n",
       "      <th>PC7</th>\n",
       "      <th>...</th>\n",
       "      <th>PC19_14</th>\n",
       "      <th>PC19_15</th>\n",
       "      <th>PC19_16</th>\n",
       "      <th>PC19_17</th>\n",
       "      <th>PC19_18</th>\n",
       "      <th>PC19_19</th>\n",
       "      <th>PC19_20</th>\n",
       "      <th>PC19_21</th>\n",
       "      <th>PC19_22</th>\n",
       "      <th>PC19_23</th>\n",
       "    </tr>\n",
       "  </thead>\n",
       "  <tbody>\n",
       "    <tr>\n",
       "      <th>0</th>\n",
       "      <td>2023-01-01 00:00:00</td>\n",
       "      <td>train</td>\n",
       "      <td>2.0</td>\n",
       "      <td>-7.616700</td>\n",
       "      <td>3.902004</td>\n",
       "      <td>-0.372305</td>\n",
       "      <td>-1.408289</td>\n",
       "      <td>0.170445</td>\n",
       "      <td>-1.217880</td>\n",
       "      <td>5.171932</td>\n",
       "      <td>...</td>\n",
       "      <td>NaN</td>\n",
       "      <td>NaN</td>\n",
       "      <td>NaN</td>\n",
       "      <td>NaN</td>\n",
       "      <td>NaN</td>\n",
       "      <td>NaN</td>\n",
       "      <td>NaN</td>\n",
       "      <td>NaN</td>\n",
       "      <td>NaN</td>\n",
       "      <td>NaN</td>\n",
       "    </tr>\n",
       "    <tr>\n",
       "      <th>1</th>\n",
       "      <td>2023-01-01 01:00:00</td>\n",
       "      <td>train</td>\n",
       "      <td>1.0</td>\n",
       "      <td>-5.108229</td>\n",
       "      <td>-1.748376</td>\n",
       "      <td>2.212699</td>\n",
       "      <td>-3.108076</td>\n",
       "      <td>-0.160802</td>\n",
       "      <td>-0.919286</td>\n",
       "      <td>1.340964</td>\n",
       "      <td>...</td>\n",
       "      <td>NaN</td>\n",
       "      <td>NaN</td>\n",
       "      <td>NaN</td>\n",
       "      <td>NaN</td>\n",
       "      <td>NaN</td>\n",
       "      <td>NaN</td>\n",
       "      <td>NaN</td>\n",
       "      <td>NaN</td>\n",
       "      <td>NaN</td>\n",
       "      <td>NaN</td>\n",
       "    </tr>\n",
       "  </tbody>\n",
       "</table>\n",
       "<p>2 rows × 223 columns</p>\n",
       "</div>"
      ],
      "text/plain": [
       "                    ID  _type  target       PC1       PC2       PC3       PC4  \\\n",
       "0  2023-01-01 00:00:00  train     2.0 -7.616700  3.902004 -0.372305 -1.408289   \n",
       "1  2023-01-01 01:00:00  train     1.0 -5.108229 -1.748376  2.212699 -3.108076   \n",
       "\n",
       "        PC5       PC6       PC7  ...  PC19_14  PC19_15  PC19_16  PC19_17  \\\n",
       "0  0.170445 -1.217880  5.171932  ...      NaN      NaN      NaN      NaN   \n",
       "1 -0.160802 -0.919286  1.340964  ...      NaN      NaN      NaN      NaN   \n",
       "\n",
       "   PC19_18  PC19_19  PC19_20  PC19_21  PC19_22  PC19_23  \n",
       "0      NaN      NaN      NaN      NaN      NaN      NaN  \n",
       "1      NaN      NaN      NaN      NaN      NaN      NaN  \n",
       "\n",
       "[2 rows x 223 columns]"
      ]
     },
     "execution_count": 26,
     "metadata": {},
     "output_type": "execute_result"
    }
   ],
   "source": [
    "df_shifted.head(2)"
   ]
  },
  {
   "cell_type": "code",
   "execution_count": 27,
   "metadata": {},
   "outputs": [],
   "source": [
    "# 모델링"
   ]
  },
  {
   "cell_type": "code",
   "execution_count": 28,
   "metadata": {},
   "outputs": [],
   "source": [
    "# 변수 중요도 뽑아서"
   ]
  },
  {
   "cell_type": "code",
   "execution_count": 29,
   "metadata": {},
   "outputs": [
    {
     "data": {
      "text/html": [
       "<div>\n",
       "<style scoped>\n",
       "    .dataframe tbody tr th:only-of-type {\n",
       "        vertical-align: middle;\n",
       "    }\n",
       "\n",
       "    .dataframe tbody tr th {\n",
       "        vertical-align: top;\n",
       "    }\n",
       "\n",
       "    .dataframe thead th {\n",
       "        text-align: right;\n",
       "    }\n",
       "</style>\n",
       "<table border=\"1\" class=\"dataframe\">\n",
       "  <thead>\n",
       "    <tr style=\"text-align: right;\">\n",
       "      <th></th>\n",
       "    </tr>\n",
       "  </thead>\n",
       "  <tbody>\n",
       "    <tr>\n",
       "      <th>0</th>\n",
       "    </tr>\n",
       "    <tr>\n",
       "      <th>1</th>\n",
       "    </tr>\n",
       "    <tr>\n",
       "      <th>2</th>\n",
       "    </tr>\n",
       "    <tr>\n",
       "      <th>3</th>\n",
       "    </tr>\n",
       "    <tr>\n",
       "      <th>4</th>\n",
       "    </tr>\n",
       "  </tbody>\n",
       "</table>\n",
       "</div>"
      ],
      "text/plain": [
       "Empty DataFrame\n",
       "Columns: []\n",
       "Index: [0, 1, 2, 3, 4]"
      ]
     },
     "execution_count": 29,
     "metadata": {},
     "output_type": "execute_result"
    }
   ],
   "source": [
    "df2_list = []\n",
    "df2 = df_shifted[df2_list]\n",
    "\n",
    "df2.head()\n"
   ]
  },
  {
   "cell_type": "markdown",
   "metadata": {},
   "source": [
    "# DF3 - 상승 하락 확률"
   ]
  },
  {
   "cell_type": "code",
   "execution_count": 30,
   "metadata": {},
   "outputs": [],
   "source": [
    "up_down_df = df_select_ma_shift.copy()"
   ]
  },
  {
   "cell_type": "code",
   "execution_count": 31,
   "metadata": {},
   "outputs": [],
   "source": [
    "# 타겟 변수 생성 (예: 4개 클래스로 분류)\n",
    "up_down_df['target_direction'] = np.where(up_down_df['target'] >= 2, 1, 0)"
   ]
  },
  {
   "cell_type": "code",
   "execution_count": 32,
   "metadata": {},
   "outputs": [],
   "source": [
    "train_df = up_down_df[up_down_df._type == 'train'].drop(columns = '_type')\n",
    "test_df = up_down_df[up_down_df._type == 'test'].drop(columns = '_type')"
   ]
  },
  {
   "cell_type": "code",
   "execution_count": 33,
   "metadata": {},
   "outputs": [],
   "source": [
    "# train_test_split 으로 valid set, train set 분리\n",
    "x_train_random, x_valid_random, y_train_dir_random, y_valid_dir_random = train_test_split(\n",
    "    train_df.drop(columns = ['target_direction', 'ID',  'target']), \n",
    "    train_df[\"target_direction\"].astype(int), \n",
    "    test_size=0.2,\n",
    "    random_state=42,\n",
    "    stratify = train_df['target']\n",
    ")"
   ]
  },
  {
   "cell_type": "code",
   "execution_count": 34,
   "metadata": {},
   "outputs": [],
   "source": [
    "# time series valid, train set 분리\n",
    "x_train_ts = train_df[train_df.ID < '2023-11-01'].drop(columns=['target_direction', 'ID', 'target'])\n",
    "y_train_dir_ts = train_df[train_df.ID < '2023-11-01'][\"target_direction\"]\n",
    "\n",
    "x_valid_ts = train_df[train_df.ID >= '2023-11-01'].drop(columns=['target_direction', 'ID', 'target'])\n",
    "y_valid_dir_ts = train_df[train_df.ID >= '2023-11-01'][\"target_direction\"]"
   ]
  },
  {
   "cell_type": "code",
   "execution_count": 35,
   "metadata": {},
   "outputs": [],
   "source": [
    "# catboost 모델 돌리기"
   ]
  },
  {
   "cell_type": "code",
   "execution_count": null,
   "metadata": {},
   "outputs": [],
   "source": [
    "# # ts split 버전\n",
    "# dir_prob_train = catboost_ts.predict_proba(x_train_ts)[:,1]\n",
    "# dir_prob_valid = catboost_ts.predict_proba(x_valid_ts)[:,1]\n",
    "# dir_prob_ts = np.concatenate((dir_prob_train,dir_prob_valid))"
   ]
  },
  {
   "cell_type": "code",
   "execution_count": null,
   "metadata": {},
   "outputs": [],
   "source": [
    "# # random split 버전 \n",
    "# dir_prob_train = catboost_random.predict_proba(x_train_random)[:,1]\n",
    "# dir_prob_valid = catboost_random.predict_proba(x_valid_random)[:,1]\n",
    "# dir_prob_random = np.concatenate((dir_prob_train,dir_prob_valid))"
   ]
  },
  {
   "cell_type": "code",
   "execution_count": null,
   "metadata": {},
   "outputs": [],
   "source": [
    "# # 테스트셋용 \n",
    "# x_test_full = test_df.drop(columns = ['ID', 'target', 'target_direction'])\n",
    "# dir_prob_random_test = catboost_random.predict_proba(x_test_full)[:,1] # random 용\n",
    "# dir_prob_ts_test = catboost_ts.predict_proba(x_test_full)[:,1] # ts 용"
   ]
  },
  {
   "cell_type": "code",
   "execution_count": null,
   "metadata": {},
   "outputs": [],
   "source": [
    "# df3_1 = pd.DataFrame()\n",
    "# df3_1['dir_prob_ts'] = dir_prob_ts\n",
    "# df3_1['dir_prob_random'] = dir_prob_random\n",
    "\n",
    "# df3_2 = pd.DataFrame()\n",
    "# df3_2['dir_prob_ts'] = dir_prob_ts_test\n",
    "# df3_2['dir_prob_random'] = dir_prob_random_test\n",
    "\n",
    "# df3 = pd.concat([df3_1,df3_2],axis=0)\n",
    "# df3 = df3.reset_index(drop=True)\n",
    "# df3\n"
   ]
  },
  {
   "cell_type": "markdown",
   "metadata": {},
   "source": [
    "# Concat DF"
   ]
  },
  {
   "cell_type": "code",
   "execution_count": null,
   "metadata": {},
   "outputs": [],
   "source": [
    "# df4 = pd.concat([df[['ID','_type','target']],df1, df2, df3],axis=1)\n",
    "# df4"
   ]
  }
 ],
 "metadata": {
  "kernelspec": {
   "display_name": "Python 3",
   "language": "python",
   "name": "python3"
  },
  "language_info": {
   "codemirror_mode": {
    "name": "ipython",
    "version": 3
   },
   "file_extension": ".py",
   "mimetype": "text/x-python",
   "name": "python",
   "nbconvert_exporter": "python",
   "pygments_lexer": "ipython3",
   "version": "3.9.12"
  }
 },
 "nbformat": 4,
 "nbformat_minor": 2
}
